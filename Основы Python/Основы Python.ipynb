{
 "cells": [
  {
   "cell_type": "code",
   "execution_count": null,
   "metadata": {},
   "outputs": [],
   "source": [
    "Задание 1"
   ]
  },
  {
   "cell_type": "code",
   "execution_count": 52,
   "metadata": {},
   "outputs": [
    {
     "name": "stdout",
     "output_type": "stream",
     "text": [
      "фраза 1 длинее фразы 2\n"
     ]
    }
   ],
   "source": [
    "phrase_1 = len('Насколько проще было бы писать программы, если бы не заказчики')\n",
    "phrase_2 = len('640Кб должно хватить для любых задач. Билл Гейтс (по легенде)') \n",
    "if phrase_1 > phrase_2:\n",
    "    print('фраза 1 длинее фразы 2')"
   ]
  },
  {
   "cell_type": "code",
   "execution_count": 24,
   "metadata": {},
   "outputs": [
    {
     "name": "stdout",
     "output_type": "stream",
     "text": [
      "фраза 2 длинее фразы 1\n"
     ]
    }
   ],
   "source": [
    "phrase_1 = len('640Кб должно хватить для любых задач. Билл Гейтс (по легенде)')\n",
    "phrase_2 = len('Насколько проще было бы писать программы, если бы не заказчики')\n",
    "if phrase_2 > phrase_1:\n",
    "    print('фраза 2 длинее фразы 1')"
   ]
  },
  {
   "cell_type": "code",
   "execution_count": 28,
   "metadata": {},
   "outputs": [
    {
     "name": "stdout",
     "output_type": "stream",
     "text": [
      "фразы равной длины\n"
     ]
    }
   ],
   "source": [
    "phrase_1 = len('Насколько проще было бы писать программы, если бы не заказчики')\n",
    "phrase_2 = len('Насколько проще было бы писать программы, если бы не заказчики')\n",
    "if phrase_2 == phrase_1:\n",
    "    print('фразы равной длины')"
   ]
  },
  {
   "cell_type": "code",
   "execution_count": null,
   "metadata": {},
   "outputs": [],
   "source": [
    "Задание 2 Определить високосный или обычный год"
   ]
  },
  {
   "cell_type": "code",
   "execution_count": 30,
   "metadata": {},
   "outputs": [
    {
     "name": "stdout",
     "output_type": "stream",
     "text": [
      "Обычный\n"
     ]
    }
   ],
   "source": [
    "x = 2019\n",
    "if x % 400 == 0 or (x % 4 == 0 and x % 100 != 0):\n",
    "    print('Високосный')\n",
    "else:\n",
    "    print('Обычный')"
   ]
  },
  {
   "cell_type": "code",
   "execution_count": 31,
   "metadata": {},
   "outputs": [
    {
     "name": "stdout",
     "output_type": "stream",
     "text": [
      "Високосный\n"
     ]
    }
   ],
   "source": [
    "x = 2020\n",
    "if x % 400 == 0 or (x % 4 == 0 and x % 100 != 0):\n",
    "    print('Високосный')\n",
    "else:\n",
    "    print('Обычный')"
   ]
  },
  {
   "cell_type": "code",
   "execution_count": null,
   "metadata": {},
   "outputs": [],
   "source": [
    "Задание 3\n",
    "Необходимо написать программу, которая будет запрашивать у пользователя месяц и дату рождения и выводить соответствующий знак зодиака."
   ]
  },
  {
   "cell_type": "code",
   "execution_count": 47,
   "metadata": {},
   "outputs": [
    {
     "name": "stdout",
     "output_type": "stream",
     "text": [
      "овен\n"
     ]
    }
   ],
   "source": [
    "date = 31\n",
    "month = 3\n",
    "if (date >= 21 and date <= 31 and month == 3) or (month == 4 and date >= 1 and date <= 19):\n",
    "    print('овен')\n",
    "elif (date >= 20 and date <= 30 and month == 4) or (month == 5 and date >= 1 and date <= 20):\n",
    "    print('телец')\n",
    "elif (date >= 21 and date <= 31 and month == 5) or (month == 6 and date >= 1 and date <= 20):\n",
    "    print('близнецы')\n",
    "elif (date >= 21 and date <= 30 and month == 6) or (month == 7 and date >= 1 and date <= 22):\n",
    "    print('рак')\n",
    "elif (date >= 23 and date <= 31 and month == 7) or (month == 8 and date >= 1 and date <= 22):\n",
    "    print('лев')\n",
    "elif (date >= 23 and date <= 31 and month == 8) or (month == 9 and date >= 1 and date <= 22):\n",
    "    print('дева')\n",
    "elif (date >= 23 and date <= 30 and month == 9) or (month == 10 and date >= 1 and date <= 22):\n",
    "    print('весы')\n",
    "elif (date >= 23 and date <= 31 and month == 10) or (month == 11 and date >= 1 and date <= 22):\n",
    "    print('скорпион')\n",
    "elif (date >= 23 and date <= 30 and month == 11) or (month == 12 and date >= 1 and date <= 21):\n",
    "    print('стрелец')\n",
    "elif (date >= 22 and date <= 31 and month == 12) or (month == 1 and date >= 1 and date <= 20):\n",
    "    print('козерог')"
   ]
  },
  {
   "cell_type": "code",
   "execution_count": null,
   "metadata": {},
   "outputs": [],
   "source": [
    "Задание 4 Вам нужно написать программу для подбора упаковок по размерам товара."
   ]
  },
  {
   "cell_type": "code",
   "execution_count": 50,
   "metadata": {},
   "outputs": [
    {
     "name": "stdout",
     "output_type": "stream",
     "text": [
      "Коробка №2\n"
     ]
    }
   ],
   "source": [
    "width = 25\n",
    "length = 30\n",
    "height = 41\n",
    "if width < 15 and length < 15 and height < 15:\n",
    "    print('Коробка №1')\n",
    "elif (width > 15 or length > 15 and height > 15) and (width < 50 or length < 50 and height < 50):\n",
    "    print('Коробка №2')\n",
    "elif length > 200:\n",
    "    print('Упаковка для лыж')\n",
    "else:\n",
    "    print('Стандартная коробка')"
   ]
  },
  {
   "cell_type": "code",
   "execution_count": null,
   "metadata": {},
   "outputs": [],
   "source": [
    "Домашнее задание сдается ссылкой на репозиторий GitHub. "
   ]
  }
 ],
 "metadata": {
  "kernelspec": {
   "display_name": "Python 3",
   "language": "python",
   "name": "python3"
  },
  "language_info": {
   "codemirror_mode": {
    "name": "ipython",
    "version": 3
   },
   "file_extension": ".py",
   "mimetype": "text/x-python",
   "name": "python",
   "nbconvert_exporter": "python",
   "pygments_lexer": "ipython3",
   "version": "3.8.3"
  }
 },
 "nbformat": 4,
 "nbformat_minor": 4
}
